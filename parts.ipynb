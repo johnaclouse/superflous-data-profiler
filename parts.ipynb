{
 "cells": [
  {
   "cell_type": "code",
   "execution_count": 1,
   "id": "95cb2da6-4bc7-41de-b5aa-d3f404c7c759",
   "metadata": {},
   "outputs": [],
   "source": [
    "import base64\n",
    "data_uri = base64.b64encode(open('dragon.png', 'rb').read()).decode('utf-8')\n",
    "img_tag = '<img src=\"data:image/png;base64,{0}\">'.format(data_uri)\n",
    "# print(img_tag) #to file"
   ]
  },
  {
   "cell_type": "code",
   "execution_count": 2,
   "id": "4a5db4e4-f711-4192-a92b-5560fcf40def",
   "metadata": {},
   "outputs": [
    {
     "data": {
      "text/plain": [
       "[{0.1: 0.2, 23: 0.2, 3: 0.1, 4: 0.04, 5: 0},\n",
       " {10: 0.33, 20: 0.22, 30: 0.11},\n",
       " {100: 0.6, 200: 0.5, 300: 0.4}]"
      ]
     },
     "execution_count": 2,
     "metadata": {},
     "output_type": "execute_result"
    }
   ],
   "source": [
    "import pandas as pd\n",
    "# vals = [, [], [10, 20, 30]]\n",
    "# props = [,\n",
    "#                   [10, 20, 30],\n",
    "#                   [0.43, 0.42, 0.41]]\n",
    "values = [\n",
    "    dict(zip([0.1,23,3,4,5], [0.2, 0.2, 0.1, 0.04, 0])),\n",
    "    dict(zip([10, 20, 30], [0.33, 0.22, 0.11])),\n",
    "    dict(zip([100, 200, 300], [0.6, 0.5, 0.4]))\n",
    "]\n",
    "values"
   ]
  },
  {
   "cell_type": "code",
   "execution_count": 3,
   "id": "f64ec488-92ec-49fb-a0a3-8f8ba8d2c0fb",
   "metadata": {},
   "outputs": [
    {
     "data": {
      "text/plain": [
       "{0.1: 0.2, 23: 0.2, 3: 0.1, 4: 0.04, 5: 0}"
      ]
     },
     "execution_count": 3,
     "metadata": {},
     "output_type": "execute_result"
    }
   ],
   "source": [
    "values[0]"
   ]
  },
  {
   "cell_type": "code",
   "execution_count": 4,
   "id": "6a072bcf-e5a0-4521-aa7f-e0e90a3e5426",
   "metadata": {},
   "outputs": [
    {
     "name": "stdout",
     "output_type": "stream",
     "text": [
      "0.1 0.2\n",
      "23 0.2\n",
      "3 0.1\n",
      "4 0.04\n",
      "5 0\n"
     ]
    }
   ],
   "source": [
    "for i in values[0]:\n",
    "    print(i, values[0][i])"
   ]
  },
  {
   "cell_type": "code",
   "execution_count": 5,
   "id": "f18bbd92-37e2-4c8a-b20c-4b6864870910",
   "metadata": {},
   "outputs": [
    {
     "name": "stdout",
     "output_type": "stream",
     "text": [
      "121\n",
      "1\n",
      "44\n",
      "234\n",
      "19\n",
      "249\n",
      "...\n",
      "234\n",
      "44\n",
      "11\n",
      "22\n",
      "66\n"
     ]
    },
    {
     "data": {
      "text/plain": [
       "name                                                             Skipper\n",
       "name_tag                                                     Skipper_dog\n",
       "n                                                                   1000\n",
       "missing                                                               99\n",
       "nonmissing                                                           901\n",
       "missing_ratio                                                        0.1\n",
       "unique                                                               100\n",
       "unique_ratio                                                         0.5\n",
       "pct_5                                                              0.001\n",
       "cv                                                                     1\n",
       "mean                                                                  11\n",
       "std_dev                                                              1.1\n",
       "median                                                                 5\n",
       "iqr                                                                  2.3\n",
       "pct_95                                                                44\n",
       "mad                                                                    3\n",
       "outlier_floor                                                          0\n",
       "outlier_floor_pct                                                      1\n",
       "outlier_ceiling                                                      134\n",
       "outlier_ceiling_pct                                                 0.99\n",
       "outliers                                                               4\n",
       "outlier_ratio                                                       0.01\n",
       "proportions                   {0.1: 0.2, 23: 0.2, 3: 0.1, 4: 0.04, 5: 0}\n",
       "values                 [121, 1, 44, 234, 19, 249, ..., 234, 44, 11, 2...\n",
       "is_unique                                                          False\n",
       "is_zero_variance                                                    True\n",
       "Name: 0, dtype: object"
      ]
     },
     "execution_count": 5,
     "metadata": {},
     "output_type": "execute_result"
    }
   ],
   "source": [
    "import pandas as pd\n",
    "vals = [[1,2,3,4,5], [10, 20, 30], [404, 404, 404]]\n",
    "props = [[0.2, 0.2, 0.1, 0.04, 0],\n",
    "                  [0.10, 0.02, 30],\n",
    "                  [0.43, 0.42, 0.41]]\n",
    "values\n",
    "\n",
    "data = {'name': ['Skipper', 'Fish', 'Dragon'],\n",
    "        'name_tag': ['Skipper_dog', 'Fish_cat', 'Dragon_cat'],\n",
    "        'n': [1000, 500, 400],\n",
    "        'missing': [99, 9, 0],\n",
    "        'nonmissing': [901, 491, 400],\n",
    "        'missing_ratio': [0.1, 0.2, 0],\n",
    "        'unique': [100, 50, 40],\n",
    "        'unique_ratio': [0.5, 0.4, 0.3],\n",
    "        'pct_5': [.001, 1, 3],\n",
    "        'cv': [1,2,3],\n",
    "        'mean': [11,22,33],\n",
    "        'std_dev': [1.1,2.2,3.3],\n",
    "        'median': [5,7,11],\n",
    "        'iqr': [2.3,4,2.5], \n",
    "        'pct_95': [44,55,66],\n",
    "        'mad': [3,4,5],\n",
    "        'outlier_floor': [0.001,23,44],\n",
    "        'outlier_floor_pct': [1,3,2],\n",
    "        'outlier_ceiling': [444333222, 14440, 2000],\n",
    "        'outlier_ceiling_pct': [0.99, 0.98, 0.96],\n",
    "        'outliers': [4, 22, 13],\n",
    "        'outlier_ratio': [0.01, 0.2, 0.13],\n",
    "        'proportions': [dict(zip([0.1,23,3,4,5], [0.2, 0.2, 0.1, 0.04, 0])),\n",
    "                   dict(zip([10, 20, 30], [0.33, 0.22, 0.11])),\n",
    "                   dict(zip([100, 200, 300], [0.6, 0.5, 0.4]))],\n",
    "        'values': [[121, 1, 44, 234, 19, 249, '...', 234, 44, 11, 22, 66],\n",
    "                  [1,2,3,4,5,'...',6,7,8,9,10],\n",
    "                  [92, 92, 92, 92, 92, '...', 92, 92, 92, 92, 92]],\n",
    "        'is_unique': [False, False, True],\n",
    "        'is_zero_variance': [True, True, False]\n",
    "       }\n",
    "features = pd.DataFrame(data)\n",
    "features\n",
    "title = 'Title of my data file'\n",
    "features[['name']].values\n",
    "features.loc[features['name'] == 'Dragon']\n",
    "\n",
    "df = features.loc[0]\n",
    "df['values']\n",
    "for i in df['values']:\n",
    "    print(i)\n",
    "df"
   ]
  },
  {
   "cell_type": "markdown",
   "id": "15beed77-b774-43fe-b0b9-2505bd579006",
   "metadata": {},
   "source": [
    "## Define custom formatting filter"
   ]
  },
  {
   "cell_type": "code",
   "execution_count": 296,
   "id": "41cdf060-74f6-4986-acab-1d4859d04001",
   "metadata": {},
   "outputs": [],
   "source": [
    "import math\n",
    "\n",
    "def number_eda_round(x):\n",
    "    magnitude = math.log10(abs(x))\n",
    "    digits = max(0, math.floor(3 - magnitude))\n",
    "    x = round(x, digits)\n",
    "    if x >= 100:\n",
    "        x = int(x)\n",
    "    return(x)\n",
    "\n",
    "def number_eda_format(x, round = True):\n",
    "    if round:\n",
    "        x = number_eda_round(x)\n",
    "    # x = f'{x:13.3f}'.rstrip('0').rstrip('.')\n",
    "    x = f'{x:15,.3f}'.rstrip('0').rstrip('.')\n",
    "    return(x)"
   ]
  },
  {
   "cell_type": "code",
   "execution_count": 303,
   "id": "8d9b8bf4-eaf9-4c44-91bb-9963fecdde08",
   "metadata": {},
   "outputs": [
    {
     "name": "stdout",
     "output_type": "stream",
     "text": [
      "       -123\n",
      "          1.32\n",
      "          0.457\n",
      "-70,000,002\n",
      " 50,000,000\n",
      "         13.1\n",
      "          0.1\n",
      "          0.667\n",
      "        100\n",
      " -4,000,000\n"
     ]
    }
   ],
   "source": [
    "numbers = [-123.03033, 1.3203, 0.456781, -70000002.18, 50000000, 13.1231, 0.1, .6666, 100.222, -4000000.1231]\n",
    "for number in numbers:\n",
    "    print(number_eda_format(number))"
   ]
  },
  {
   "cell_type": "code",
   "execution_count": 295,
   "id": "4cd8630e-9f97-4751-a894-f4c2042da0df",
   "metadata": {},
   "outputs": [
    {
     "name": "stdout",
     "output_type": "stream",
     "text": [
      "       -123\n",
      "          1.32\n",
      "          0.457\n",
      "-70,000,002\n",
      " 50,000,000\n",
      "         13.1\n",
      "          0.1\n",
      "          0.667\n",
      "        100\n",
      " -4,000,000\n"
     ]
    }
   ],
   "source": []
  },
  {
   "cell_type": "markdown",
   "id": "ab1ba764-468a-4cfa-a2d6-6f5f9bba5125",
   "metadata": {},
   "source": [
    "# features['name'] == 'Fish'"
   ]
  },
  {
   "cell_type": "code",
   "execution_count": 304,
   "id": "c46b4f4d-0f32-4bfd-aeea-a6108f5e7123",
   "metadata": {},
   "outputs": [],
   "source": [
    "from jinja2 import Environment, FileSystemLoader\n",
    "env = Environment(loader=FileSystemLoader('templates'))\n",
    "template = env.get_template('eda_page.html')\n",
    "template_vars = {'features': features,\n",
    "                'title': title}\n",
    "output_from_parsed_template = template.render(template_vars)\n",
    "with open(\"my_new_file.html\", \"w\") as fh:\n",
    "    fh.write(output_from_parsed_template)"
   ]
  },
  {
   "cell_type": "code",
   "execution_count": null,
   "id": "ebf1c9bd-2410-451b-ae11-037399b4c0cb",
   "metadata": {},
   "outputs": [],
   "source": [
    "title"
   ]
  },
  {
   "cell_type": "code",
   "execution_count": null,
   "id": "939f3467-512f-4181-95a5-16092959c228",
   "metadata": {},
   "outputs": [],
   "source": [
    "from IPython.display import display, HTML\n",
    "HTML(output_from_parsed_template) \n"
   ]
  },
  {
   "cell_type": "code",
   "execution_count": null,
   "id": "9f32108d-f310-4f60-9501-44cff4377bb3",
   "metadata": {},
   "outputs": [],
   "source": [
    "# .to_string(index=False), '\\n')\n",
    "for i, feature in features.iterrows() :\n",
    "        print(feature.iloc[[0]].to_string(index=False), '\\n')\n",
    "        print(feature.iloc[[1]].to_string(index=False), '\\n')\n",
    "        \n"
   ]
  },
  {
   "cell_type": "code",
   "execution_count": null,
   "id": "47b87b33-4299-4845-ad26-aab71c4e06f1",
   "metadata": {},
   "outputs": [],
   "source": [
    "for i, feature in features.iterrows() :\n",
    "        print(i, '\\n')\n",
    "        print(feature, '\\n')\n"
   ]
  },
  {
   "cell_type": "code",
   "execution_count": null,
   "id": "a9f14a4f-10ab-4325-9206-5937ecd20ddf",
   "metadata": {},
   "outputs": [],
   "source": [
    "import base64\n",
    "data_uri = base64.b64encode(open('dragon.png', 'rb').read()).decode('utf-8')\n",
    "img_tag = '<img src=\"data:image/png;base64,{0}\">'.format(data_uri)\n",
    "print(img_tag) #to file"
   ]
  },
  {
   "cell_type": "code",
   "execution_count": null,
   "id": "210c088c-f67f-4533-9129-861c4e474ddc",
   "metadata": {},
   "outputs": [],
   "source": [
    "features"
   ]
  },
  {
   "cell_type": "code",
   "execution_count": null,
   "id": "f0785bfb-d17d-43f2-8b77-eecb407d60ed",
   "metadata": {},
   "outputs": [],
   "source": []
  }
 ],
 "metadata": {
  "kernelspec": {
   "display_name": "Python 3 (ipykernel)",
   "language": "python",
   "name": "python3"
  },
  "language_info": {
   "codemirror_mode": {
    "name": "ipython",
    "version": 3
   },
   "file_extension": ".py",
   "mimetype": "text/x-python",
   "name": "python",
   "nbconvert_exporter": "python",
   "pygments_lexer": "ipython3",
   "version": "3.9.12"
  }
 },
 "nbformat": 4,
 "nbformat_minor": 5
}
