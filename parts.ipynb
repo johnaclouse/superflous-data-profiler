{
 "cells": [
  {
   "cell_type": "code",
   "execution_count": 1,
   "id": "f18bbd92-37e2-4c8a-b20c-4b6864870910",
   "metadata": {},
   "outputs": [],
   "source": [
    "import pandas as pd\n",
    "import src.superflous_data_profiler as sdp"
   ]
  },
  {
   "cell_type": "markdown",
   "id": "15beed77-b774-43fe-b0b9-2505bd579006",
   "metadata": {},
   "source": [
    "## Run test data"
   ]
  },
  {
   "cell_type": "code",
   "execution_count": 2,
   "id": "de9fb96f-0178-4346-9bd6-949ef9e569c5",
   "metadata": {},
   "outputs": [],
   "source": [
    "title = 'Title of my data file'\n",
    "features = sdp.create_test_data()"
   ]
  },
  {
   "cell_type": "code",
   "execution_count": 5,
   "id": "c46b4f4d-0f32-4bfd-aeea-a6108f5e7123",
   "metadata": {},
   "outputs": [],
   "source": [
    "from jinja2 import Environment, FileSystemLoader\n",
    "\n",
    "env = Environment(loader=FileSystemLoader('templates'))\n",
    "env.filters['sdp.pretty_format'] = sdp.pretty_format\n",
    "template = env.get_template('eda_page.html')\n",
    "template_vars = {'features': features,\n",
    "                'title': title}\n",
    "output_from_parsed_template = template.render(template_vars)\n",
    "with open(\"my_new_file.html\", \"w\") as fh:\n",
    "    fh.write(output_from_parsed_template)\n",
    "\n",
    "# from IPython.display import display, HTML\n",
    "# HTML(output_from_parsed_template) "
   ]
  },
  {
   "cell_type": "markdown",
   "id": "bfc78b88-568e-4e5c-93ed-761b2f179e11",
   "metadata": {},
   "source": [
    "<a href=\"my_new_file.html\" target=\"_blank\"> Link to working file </a>"
   ]
  }
 ],
 "metadata": {
  "kernelspec": {
   "display_name": "Python 3 (ipykernel)",
   "language": "python",
   "name": "python3"
  },
  "language_info": {
   "codemirror_mode": {
    "name": "ipython",
    "version": 3
   },
   "file_extension": ".py",
   "mimetype": "text/x-python",
   "name": "python",
   "nbconvert_exporter": "python",
   "pygments_lexer": "ipython3",
   "version": "3.9.12"
  }
 },
 "nbformat": 4,
 "nbformat_minor": 5
}
