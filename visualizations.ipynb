{
 "cells": [
  {
   "cell_type": "code",
   "execution_count": null,
   "id": "2b8f6180-a41e-44b7-bef0-89230f24ac48",
   "metadata": {},
   "outputs": [],
   "source": [
    "%config IPCompleter.greedy=True\n",
    "import pandas as pd\n",
    "import numpy as np\n",
    "from datetime import datetime"
   ]
  },
  {
   "cell_type": "code",
   "execution_count": null,
   "id": "d62da40f-b6bb-4c31-a9b1-8e2573389199",
   "metadata": {},
   "outputs": [],
   "source": [
    "filename = \"data/example_data.csv\""
   ]
  },
  {
   "cell_type": "code",
   "execution_count": null,
   "id": "3091ddcd-2daf-486e-b33b-df2bcdb4ed93",
   "metadata": {},
   "outputs": [],
   "source": [
    "df = pd.read_csv(filename)\n",
    "df['eg_date'] = pd.to_datetime(df['eg_date'])\n",
    "df['eg_date_na'] = pd.to_datetime(df['eg_date_na'])"
   ]
  },
  {
   "cell_type": "code",
   "execution_count": null,
   "id": "a0022150-b172-4ce5-9668-4327c4af4149",
   "metadata": {},
   "outputs": [],
   "source": [
    "for column in df.columns[1:]:\n",
    "    x = df[column].dtype\n",
    "    print(x)\n",
    "   "
   ]
  },
  {
   "cell_type": "code",
   "execution_count": null,
   "id": "94f57a0d-c351-43fc-9e7b-94fe3935b7d0",
   "metadata": {},
   "outputs": [],
   "source": [
    "class foo():\n",
    "    \n",
    "    def __init__(self, x):\n",
    "        self.values = x\n",
    "        self.unique_values = x.unique()        \n",
    "        print(\"----\")\n",
    "        print(x.info())\n",
    "        print(\"...\")"
   ]
  },
  {
   "cell_type": "code",
   "execution_count": null,
   "id": "11f9f00f-83f0-4c87-90aa-809ebec0221e",
   "metadata": {},
   "outputs": [],
   "source": [
    "bar = foo(df[\"eg_factor_4\"])"
   ]
  },
  {
   "cell_type": "code",
   "execution_count": null,
   "id": "5e9dbdea-4196-440f-92e6-cbe6295a49f2",
   "metadata": {},
   "outputs": [],
   "source": [
    "df['key_age'].sum()"
   ]
  },
  {
   "cell_type": "code",
   "execution_count": null,
   "id": "74fb72e0-8cdc-4875-a3ef-d9303a88dfff",
   "metadata": {},
   "outputs": [],
   "source": [
    "# EdaFeature\n",
    "# ContinuousFeature\n",
    "# FeatureOutliers\n",
    "\n",
    "\n",
    "from abc import ABC, abstractmethod\n",
    "class Eda(ABC):\n",
    "    \"\"\"\n",
    "    Abstract class for exploratory data analysis xxxEdaxxx\n",
    "    \n",
    "    Attributes:\n",
    "    name: name of series\n",
    "    values: values in the series\n",
    "    count: number of values (including missing values)\n",
    "    \"\"\"\n",
    "    def __init__(self, x):\n",
    "        self.name = x.name\n",
    "        self.values = x\n",
    "        self.count = len(x)\n",
    "\n",
    "\n",
    "    def print_unique_count(self):\n",
    "        return len(set(self.values))\n",
    "    \n",
    "    @abstractmethod\n",
    "    def visualization(self):\n",
    "        pass\n",
    "\n",
    "class EdaOutlier:\n",
    "    \"\"\"\n",
    "    Component class xxxEdaOutlierxxx SKIPPER\n",
    "    \n",
    "    Methods:\n",
    "    find_outliers: asserts 42\n",
    "    \"\"\"\n",
    "    def __init__(self, x):\n",
    "        print(\"Has EdaOutlier\")\n",
    "        \n",
    "    def find_outliers(self):\n",
    "        \"\"\"\n",
    "        find_outliers from xxxEdaOutlierxxx DRAGON\n",
    "        \"\"\"\n",
    "        return 42\n",
    "        \n",
    "class EdaContinuous(Eda):\n",
    "    \"\"\"\n",
    "    Concrete class has EdaOutlier and extends Eda xxxEdaContinuousxxx\n",
    "    \n",
    "    Methods:\n",
    "    print_sum\n",
    "    visualization\n",
    "    foo\n",
    "    bar\n",
    "    \"\"\"\n",
    "    def __init__(self, x):\n",
    "        super().__init__(x)\n",
    "        self.obj_eda_outlier = EdaOutlier(self.values)\n",
    "    def __str__ (self):\n",
    "        return f'EdaContinuos(name = {self.name}, values={self.count})'     \n",
    "    \n",
    "    def print_sum(self):\n",
    "        return sum(self.values)\n",
    "    \n",
    "    def visualization(self):\n",
    "        pass\n",
    "    \n",
    "    def foo(self):\n",
    "        return f'The answer is {self.obj_eda_outlier.find_outliers()}'\n",
    "    foo.__doc__ = EdaOutlier.__doc__ + EdaOutlier.find_outliers.__doc__\n",
    "\n",
    "\n",
    "    def bar(self):\n",
    "        return f'The class EdaContinous extends the class Eda and has the EdaOutlier component class'"
   ]
  },
  {
   "cell_type": "code",
   "execution_count": null,
   "id": "6d1feb90-271d-4df2-a960-4753b5885a70",
   "metadata": {},
   "outputs": [],
   "source": [
    "y = EdaContinuous(df['eg_factor_4'])\n",
    "z = EdaContinuous(df['eg_integer_7'])"
   ]
  },
  {
   "cell_type": "code",
   "execution_count": null,
   "id": "9a110785-95eb-49e8-a4e8-c8aaba4c006c",
   "metadata": {},
   "outputs": [],
   "source": [
    "print(z)"
   ]
  },
  {
   "cell_type": "code",
   "execution_count": null,
   "id": "8efb3506-0e08-4e6b-a884-30dc50c7557b",
   "metadata": {},
   "outputs": [],
   "source": [
    "z.bar()"
   ]
  },
  {
   "cell_type": "code",
   "execution_count": null,
   "id": "2048c3e9-56da-4902-b765-6d58094633f7",
   "metadata": {},
   "outputs": [],
   "source": [
    "y.foo()"
   ]
  },
  {
   "cell_type": "code",
   "execution_count": null,
   "id": "8a8bd37c-3c18-48e8-81ba-a4d2b26f292b",
   "metadata": {},
   "outputs": [],
   "source": [
    "EdaOutlier.__doc__"
   ]
  },
  {
   "cell_type": "code",
   "execution_count": null,
   "id": "d7f9b97e-c7f4-4d88-8436-2df6b8405130",
   "metadata": {},
   "outputs": [],
   "source": [
    "help(EdaContinuous)"
   ]
  },
  {
   "cell_type": "code",
   "execution_count": null,
   "id": "124de9b6-864f-4b24-9758-26cbee532124",
   "metadata": {},
   "outputs": [],
   "source": [
    "        \n",
    "        \n",
    "    \n",
    "    \n",
    "    \n",
    "    \n",
    "    \n",
    "class EdaFactory\n",
    "def create_eda_object(x):\n",
    "    if x.dtype == 'object':\n",
    "       return Small_number(x)\n",
    "    elif x.dtype == 'float64':\n",
    "       return Small_number(x)\n",
    "\n",
    "    elif x.dtype == 'int64':\n",
    "       return Small_number(x)\n",
    "\n",
    "    elif x.dtype == 'bool':\n",
    "       return Small_number(x)\n",
    "\n",
    "    elif x.dtype == 'datetime64[ns]':\n",
    "       return Small_number(x)\n",
    "\n",
    "\n",
    "    else:\n",
    "       return Big_number(x)\n",
    "  \n",
    "\n",
    "a = create_number(50)\n",
    "b = create_number(234234)\n",
    "c = create_number(2)"
   ]
  },
  {
   "cell_type": "code",
   "execution_count": null,
   "id": "4a3e37f0-cac3-4a33-ac15-ed53a1a92d3f",
   "metadata": {},
   "outputs": [],
   "source": [
    "help('pass')"
   ]
  },
  {
   "cell_type": "code",
   "execution_count": null,
   "id": "5bfce888-4606-4cfd-a96b-eb2f841995cb",
   "metadata": {},
   "outputs": [],
   "source": [
    "df['key_age'].count()"
   ]
  },
  {
   "cell_type": "code",
   "execution_count": null,
   "id": "a5667d6b-b008-4948-80bf-ce3794d8baf7",
   "metadata": {},
   "outputs": [],
   "source": [
    "y=df[['key_age']].dtypes"
   ]
  },
  {
   "cell_type": "code",
   "execution_count": null,
   "id": "0ce1d638-3c60-42e0-85e0-108f70e13c6e",
   "metadata": {},
   "outputs": [],
   "source": [
    "y"
   ]
  },
  {
   "cell_type": "code",
   "execution_count": null,
   "id": "a3d53d71-2a5d-45e9-b8f3-d044589ac0fc",
   "metadata": {},
   "outputs": [],
   "source": [
    "print(y)"
   ]
  },
  {
   "cell_type": "code",
   "execution_count": null,
   "id": "27de746d-9ab6-4180-a201-91ca0fc32ca9",
   "metadata": {},
   "outputs": [],
   "source": [
    "for y in df.columns:\n",
    "    print(df[y].dtype)"
   ]
  },
  {
   "cell_type": "code",
   "execution_count": null,
   "id": "68d2882c-be37-426c-b75b-1e4689a171a5",
   "metadata": {},
   "outputs": [],
   "source": [
    "df\n"
   ]
  },
  {
   "cell_type": "code",
   "execution_count": null,
   "id": "3938d10a-4a14-4b03-911a-d31c7af5eac2",
   "metadata": {},
   "outputs": [],
   "source": [
    "import pandas as pd\n",
    "from IPython.display import display, HTML\n",
    "\n",
    "df = pd.DataFrame([(i, i) for i in range (20)])\n",
    "\n",
    "pd.set_option(\"display.max_rows\", None)\n",
    "\n",
    "# Puts the scrollbar next to the DataFrame\n",
    "HTML(\"<div style='height: 50%; overflow: auto; width: 100px'>\" +\n",
    "             df.style.to_html() +\n",
    "             \"</div>\")"
   ]
  },
  {
   "cell_type": "code",
   "execution_count": null,
   "id": "6bc5216c-530c-40c2-9d92-2d786da61e09",
   "metadata": {},
   "outputs": [],
   "source": []
  },
  {
   "cell_type": "code",
   "execution_count": null,
   "id": "d5b873ab-327b-4312-a03f-4b3f1588ccd3",
   "metadata": {},
   "outputs": [],
   "source": [
    "fe = 1\n",
    "fi = 2\n",
    "fo = 3\n",
    "fum = {}\n",
    "for variable in [\"fe\", \"fi\", \"fo\"]:\n",
    "    fum[variable] = eval(variable)"
   ]
  },
  {
   "cell_type": "code",
   "execution_count": null,
   "id": "64fc26b0-bb67-43c9-a2d7-d2b95f535f8d",
   "metadata": {},
   "outputs": [],
   "source": [
    "fe"
   ]
  },
  {
   "cell_type": "code",
   "execution_count": null,
   "id": "a5d6c141-0509-4372-81e3-0a7693d7758e",
   "metadata": {},
   "outputs": [],
   "source": [
    "fi"
   ]
  },
  {
   "cell_type": "code",
   "execution_count": null,
   "id": "50d264fc-c510-483b-9a37-1f7e43aefefb",
   "metadata": {},
   "outputs": [],
   "source": [
    "fo"
   ]
  },
  {
   "cell_type": "code",
   "execution_count": null,
   "id": "29a84d63-6640-413e-8a4c-08cee975297f",
   "metadata": {},
   "outputs": [],
   "source": [
    "fum"
   ]
  },
  {
   "cell_type": "code",
   "execution_count": null,
   "id": "7a68eb6f-df0e-452f-8b43-ba9d90012e16",
   "metadata": {},
   "outputs": [],
   "source": [
    "str(fum)"
   ]
  },
  {
   "cell_type": "code",
   "execution_count": null,
   "id": "d835ae08-c973-4e3e-96b0-178a50e8fe1d",
   "metadata": {},
   "outputs": [],
   "source": [
    "type(fum)"
   ]
  },
  {
   "cell_type": "code",
   "execution_count": null,
   "id": "335e1cf9-0458-4e64-8edc-3d410ce9e8e1",
   "metadata": {},
   "outputs": [],
   "source": [
    "from jinja2 import Environment, FileSystemLoader\n",
    "\n",
    "content = 'This is about page'\n",
    "\n",
    "file_loader = FileSystemLoader('templates')\n",
    "env = Environment(loader=file_loader)\n",
    "\n",
    "template = env.get_template('eda_template.html')\n",
    "\n",
    "output = template.render(title = 'Skipper')"
   ]
  },
  {
   "cell_type": "code",
   "execution_count": null,
   "id": "de49b165-4e32-4908-b0f5-cb105c7d12e8",
   "metadata": {},
   "outputs": [],
   "source": [
    "with open(\"eda_output.html\", \"w\") as fh:\n",
    "    fh.write(output)\n",
    "    "
   ]
  },
  {
   "cell_type": "code",
   "execution_count": null,
   "id": "2f115ba6-71ff-4596-adb2-25328c256b3a",
   "metadata": {},
   "outputs": [],
   "source": [
    "# code for loop through features\n",
    "def render_template(html_file):\n",
    "    from jinja2 import Environment, FileSystemLoader\n",
    "    env  = Environment(loader=FileSystemLoader(''))\n",
    "    tmpl = env.get_template(html_file)\n",
    "    return tmpl.render()\n",
    "\n",
    "page_header = render_template('Header.html')\n",
    "# loop here\n",
    "page_body   = render_template('Body.html')\n",
    "page_footer = render_template('Footer.html)"
   ]
  },
  {
   "cell_type": "code",
   "execution_count": null,
   "id": "b3885aa6-0156-46f8-b520-7af5c3e11d22",
   "metadata": {},
   "outputs": [],
   "source": [
    "import base64\n",
    "data_uri = base64.b64encode(open('Graph.png', 'rb').read()).decode('utf-8')\n",
    "img_tag = '<img src=\"data:image/png;base64,{0}\">'.format(data_uri)\n",
    "print(img_tag)"
   ]
  },
  {
   "cell_type": "code",
   "execution_count": null,
   "id": "26034f7a-7e89-4d39-93f7-10f9bbbbe220",
   "metadata": {},
   "outputs": [],
   "source": [
    "# \n",
    "s = '{: 11.2f}\\n{: 11.2f}\\n{: 8d}'.format(1000000.001, 0.006, 113)\n",
    "print(s)"
   ]
  },
  {
   "cell_type": "code",
   "execution_count": null,
   "id": "a284d647-6ea1-434b-a309-514d067440b4",
   "metadata": {},
   "outputs": [],
   "source": [
    "# add '...' in middle of dataframe for Proportions and values\n",
    "df.loc[5.5] = '...', ''\n",
    "df = df.sort_index().reset_index(drop=True)"
   ]
  }
 ],
 "metadata": {
  "kernelspec": {
   "display_name": "Python 3 (ipykernel)",
   "language": "python",
   "name": "python3"
  },
  "language_info": {
   "codemirror_mode": {
    "name": "ipython",
    "version": 3
   },
   "file_extension": ".py",
   "mimetype": "text/x-python",
   "name": "python",
   "nbconvert_exporter": "python",
   "pygments_lexer": "ipython3",
   "version": "3.9.12"
  }
 },
 "nbformat": 4,
 "nbformat_minor": 5
}
